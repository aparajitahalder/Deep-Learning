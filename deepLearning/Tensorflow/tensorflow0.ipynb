{
 "cells": [
  {
   "cell_type": "markdown",
   "metadata": {},
   "source": [
    "# TENSORFLOW 0\n",
    "\n",
    "https://www.guru99.com/tensor-tensorflow.html"
   ]
  },
  {
   "cell_type": "markdown",
   "metadata": {},
   "source": [
    "\n",
    "A tensor is a vector or matrix of n-dimensions that represents all types of data. All values in a tensor hold identical data type with a known (or partially known) shape. A tensor can be originated from the input data or the result of a computation. In TensorFlow, all the operations are conducted inside a graph. The graph is a set of computation that takes place successively. Each operation is called an op node and are connected to each other.\n",
    "\n",
    "The graph outlines the ops and connections between the nodes. However, it does not display the values. The edge of the nodes is the tensor, i.e., a way to populate the operation with data.\n",
    "\n",
    "In Machine Learning, models are feed with a list of objects called feature vectors. A feature vector can be of any data type. The feature vector will usually be the primary input to populate a tensor. These values will flow into an op node through the tensor and the result of this operation/computation will create a new tensor which in turn will be used in a new operation. All these operations can be viewed in the graph.\n",
    "\n",
    "Note : A tensor can be represented with a scalar or can have a shape of more than three dimensions. It is just more complicated to visualize higher dimension level.\n"
   ]
  },
  {
   "cell_type": "markdown",
   "metadata": {},
   "source": [
    "\n",
    "# Types of Tensor\n",
    "\n",
    "In TensorFlow, all the computations pass through one or more tensors. A tensor is an object with three properties:\n",
    "\n",
    "A unique label (name)\n",
    "A dimension (shape)\n",
    "A data type (dtype)\n",
    "\n",
    "Each operation you will do with TensorFlow involves the manipulation of a tensor. There are four main tensors you can create:\n",
    "\n",
    "tf.Variable\n",
    "tf.constant\n",
    "tf.placeholder\n",
    "tf.SparseTensor\n"
   ]
  },
  {
   "cell_type": "markdown",
   "metadata": {},
   "source": [
    "# Create a tensor of n-dimension\n",
    "\n",
    "tf.constant(value, dtype, name = \"\")\n",
    "arguments\n",
    "\n",
    "- `value`: Value of n dimension to define the tensor. Optional\n",
    "- `dtype`: Define the type of data:    \n",
    "    - `tf.string`: String variable    \n",
    "    - `tf.float32`: Flot variable    \n",
    "    - `tf.int16`: Integer variable\n",
    "- \"name\": Name of the tensor. Optional. By default, `Const_1:0`    "
   ]
  },
  {
   "cell_type": "markdown",
   "metadata": {},
   "source": [
    "To activate the conda environment with TensorFlow.\n",
    "\n",
    "# For Windows user:\n",
    "\n",
    "activate hello-tf\t\n"
   ]
  },
  {
   "cell_type": "code",
   "execution_count": 79,
   "metadata": {},
   "outputs": [
    {
     "name": "stdout",
     "output_type": "stream",
     "text": [
      "Tensor(\"Const_31:0\", shape=(), dtype=int16)\n"
     ]
    }
   ],
   "source": [
    "# Create a tensor of dimension zero\n",
    "import tensorflow as tf\n",
    "r1 = tf.constant(1, tf.int16) \n",
    "print(r1)"
   ]
  },
  {
   "cell_type": "code",
   "execution_count": 80,
   "metadata": {},
   "outputs": [
    {
     "name": "stdout",
     "output_type": "stream",
     "text": [
      "Tensor(\"my_scalar:0\", shape=(), dtype=int16)\n"
     ]
    }
   ],
   "source": [
    "# Named my_scalar\n",
    "r2 = tf.constant(1, tf.int16, name = \"my_scalar\") \n",
    "print(r2)\t"
   ]
  },
  {
   "cell_type": "code",
   "execution_count": 82,
   "metadata": {},
   "outputs": [
    {
     "name": "stdout",
     "output_type": "stream",
     "text": [
      "Tensor(\"Const_32:0\", shape=(), dtype=float32)\n",
      "Tensor(\"Const_33:0\", shape=(), dtype=string)\n"
     ]
    }
   ],
   "source": [
    "# Each tensor is displayed by the tensor name. \n",
    "# Each tensor object is defined with a unique label (name), a dimension (shape) and a data type (dtype).\n",
    "# You can define a tensor with decimal values or with a string by changing the type of data.\n",
    "# Decimal\n",
    "r1_decimal = tf.constant(1.12345, tf.float32)\n",
    "print(r1_decimal)\n",
    "# String\n",
    "r1_string = tf.constant(\"Guru99\", tf.string)\n",
    "print(r1_string)"
   ]
  },
  {
   "cell_type": "code",
   "execution_count": 83,
   "metadata": {},
   "outputs": [
    {
     "name": "stdout",
     "output_type": "stream",
     "text": [
      "Tensor(\"Const_34:0\", shape=(3,), dtype=int16)\n",
      "Tensor(\"Const_35:0\", shape=(3,), dtype=bool)\n"
     ]
    }
   ],
   "source": [
    "#A tensor of dimension 1 can be created as follow:\n",
    "## Rank 1\n",
    "r1_vector = tf.constant([1,3,5], tf.int16)\n",
    "print(r1_vector)\n",
    "r2_boolean = tf.constant([True, True, False], tf.bool)\n",
    "print(r2_boolean)\t"
   ]
  },
  {
   "cell_type": "code",
   "execution_count": 84,
   "metadata": {},
   "outputs": [
    {
     "name": "stdout",
     "output_type": "stream",
     "text": [
      "Tensor(\"Const_36:0\", shape=(2, 2), dtype=int16)\n"
     ]
    }
   ],
   "source": [
    "#To create an array of 2 dimensions, you need to close the brackets after each row. Check the examples below\n",
    "## Rank 2\n",
    "r2_matrix = tf.constant([ [1, 2],\n",
    "                          [3, 4] ],tf.int16)\n",
    "print(r2_matrix)"
   ]
  },
  {
   "cell_type": "code",
   "execution_count": 6,
   "metadata": {},
   "outputs": [
    {
     "name": "stdout",
     "output_type": "stream",
     "text": [
      "Tensor(\"Const_3:0\", shape=(1, 3, 2), dtype=int16)\n"
     ]
    }
   ],
   "source": [
    "#A matrix with 3 dimensions is constructed by adding another level with the brackets.\n",
    "## Rank 3\n",
    "r3_matrix = tf.constant([ [[1, 2],\n",
    "                           [3, 4], \n",
    "                           [5, 6]] ], tf.int16)\n",
    "print(r3_matrix)\t\t\t"
   ]
  },
  {
   "cell_type": "code",
   "execution_count": 12,
   "metadata": {},
   "outputs": [
    {
     "data": {
      "text/plain": [
       "TensorShape([Dimension(3), Dimension(2)])"
      ]
     },
     "execution_count": 12,
     "metadata": {},
     "output_type": "execute_result"
    }
   ],
   "source": [
    "# Shape of tensor\n",
    "m_shape = tf.constant([ [10, 11],\n",
    "                        [12, 13],\n",
    "                        [14, 15] ]                      \n",
    "                     ) \n",
    "m_shape.shape\t"
   ]
  },
  {
   "cell_type": "code",
   "execution_count": 44,
   "metadata": {},
   "outputs": [
    {
     "name": "stdout",
     "output_type": "stream",
     "text": [
      "Tensor(\"zeros_3:0\", shape=(10,), dtype=float32)\n",
      "Tensor(\"ones_9:0\", shape=(10, 10), dtype=float32)\n",
      "Tensor(\"ones_10:0\", shape=(3,), dtype=float32)\n",
      "Tensor(\"ones_11:0\", shape=(2,), dtype=float32)\n",
      "Tensor(\"ones_12:0\", shape=(3, 2), dtype=float32)\n"
     ]
    }
   ],
   "source": [
    "# Shape of tensor\n",
    "m_shape = tf.constant([ [10, 11],\n",
    "                        [12, 13],\n",
    "                        [14, 15] ]                      \n",
    "                     ) \n",
    "m_shape.shape\t\t\t\n",
    "\n",
    "# Create a vector of 0\n",
    "print(tf.zeros(10))\t\t\t\n",
    "# Create a vector of 1\n",
    "print(tf.ones([10, 10]))\t\t\t\n",
    "\n",
    "# Create a vector of ones with the same number of rows as m_shape\n",
    "print(tf.ones(m_shape.shape[0]))\t\t\t\n",
    "# Create a vector of ones with the same number of column as m_shape\n",
    "print(tf.ones(m_shape.shape[1]))\t\t\t\n",
    "\n",
    "#Finally, you can create a matrix 3x2 with only one's\n",
    "print(tf.ones(m_shape.shape))\t\t\t"
   ]
  },
  {
   "cell_type": "code",
   "execution_count": 45,
   "metadata": {},
   "outputs": [
    {
     "name": "stdout",
     "output_type": "stream",
     "text": [
      "<dtype: 'int32'>\n",
      "<dtype: 'float32'>\n",
      "<dtype: 'int32'>\n"
     ]
    }
   ],
   "source": [
    "#Type of data\n",
    "#The second property of a tensor is the type of data.\n",
    "#A tensor can only have one type of data at a time.\n",
    "print(m_shape.dtype)\t\t\t\n",
    "\n",
    "#In some occasions, you want to change the type of data. In TensorFlow, it is possible with tf.cast method.\n",
    "#Change type of data\n",
    "type_float = tf.constant(3.123456789, tf.float32)\n",
    "type_int = tf.cast(type_float, dtype=tf.int32)\n",
    "print(type_float.dtype)\n",
    "print(type_int.dtype)\t\t\t"
   ]
  },
  {
   "cell_type": "code",
   "execution_count": 46,
   "metadata": {},
   "outputs": [
    {
     "name": "stdout",
     "output_type": "stream",
     "text": [
      "Tensor(\"Sqrt_4:0\", shape=(1,), dtype=float32)\n",
      "Tensor(\"Add_2:0\", shape=(1, 2), dtype=int32)\n",
      "Tensor(\"Mul_1:0\", shape=(1, 2), dtype=int32)\n"
     ]
    }
   ],
   "source": [
    "#Creating operator\n",
    "x = tf.constant([2.0], dtype = tf.float32)\n",
    "print(tf.sqrt(x))\t\t\t\n",
    "\n",
    "#tf.add(a, b)\n",
    "#tf.substract(a, b)\n",
    "#tf.multiply(a, b)\n",
    "#tf.div(a, b)\n",
    "#tf.pow(a, b)\n",
    "#tf.exp(a)\n",
    "#tf.sqrt(a)\n",
    "\n",
    "# Add\n",
    "tensor_a = tf.constant([[1,2]], dtype = tf.int32)\n",
    "tensor_b = tf.constant([[3, 4]], dtype = tf.int32)\n",
    "tensor_add = tf.add(tensor_a, tensor_b)\n",
    "print(tensor_add)\t\t\t\n",
    "\n",
    "# Multiply\n",
    "tensor_multiply = tf.multiply(tensor_a, tensor_b)\n",
    "print(tensor_multiply)\t\t\t"
   ]
  },
  {
   "cell_type": "markdown",
   "metadata": {},
   "source": [
    "# Variables\n",
    "So far, you have only created constant tensors. It is not of great use. Data always arrive with different values, to capture this, you can use the Variable class. It will represent a node where the values always change.\n",
    "\n",
    "To create a variable, you can use tf.get_variable() method\n",
    "\n",
    "tf.get_variable(name = \"\", values, dtype, initializer)\n",
    "argument\n",
    "- `name = \"\"`: Name of the variable\n",
    "- `values`: Dimension of the tensor\n",
    "- `dtype`: Type of data. Optional\n",
    "- `initializer`: How to initialize the tensor. Optional\n",
    "If initializer is specified, there is no need to include the `values` as the shape of `initializer` is used.\t"
   ]
  },
  {
   "cell_type": "code",
   "execution_count": 48,
   "metadata": {},
   "outputs": [
    {
     "name": "stdout",
     "output_type": "stream",
     "text": [
      "(1, 2)\n"
     ]
    }
   ],
   "source": [
    "# Create a Variable\n",
    "## Create 2 Randomized values\n",
    "var2 = tf.get_variable(\"var2\", [1, 2])\n",
    "print(var2.shape)\t"
   ]
  },
  {
   "cell_type": "code",
   "execution_count": 49,
   "metadata": {},
   "outputs": [
    {
     "name": "stdout",
     "output_type": "stream",
     "text": [
      "(1, 2)\n"
     ]
    }
   ],
   "source": [
    "var_init_1 = tf.get_variable(\"var_init_1\", [1, 2], dtype=tf.int32,  initializer=tf.zeros_initializer)\n",
    "print(var_init_1.shape)\t"
   ]
  },
  {
   "cell_type": "code",
   "execution_count": 70,
   "metadata": {},
   "outputs": [
    {
     "name": "stdout",
     "output_type": "stream",
     "text": [
      "(2,)\n"
     ]
    }
   ],
   "source": [
    "# Create a 2x2 matrixtensor_const = tf.constant([[10, 20],[30, 40]])\n",
    "# Initialize the first value of the tensor equals to tensor_const\n",
    "var_init_3 = tf.get_variable(\"var_init_3\", dtype=tf.int32, initializer=tf.constant([2,1]))\n",
    "#var_init_2 = tf.get_variable(\"var_init_2\", dtype=tf.int32, initializer=tensor_const)\n",
    "print(var_init_3.shape)\t"
   ]
  },
  {
   "cell_type": "markdown",
   "metadata": {},
   "source": [
    "# Placeholder\n",
    "A placeholder has the purpose of feeding the tensor. \n",
    "Placeholder is used to initialize the data to flow inside the tensors. \n",
    "To supply a placeholder, you need to use the method feed_dict.\n",
    "The placeholder will be fed only within a session.\n",
    "\n",
    "tf.placeholder(dtype,shape=None,name=None )\n",
    "arguments:\n",
    "- `dtype`: Type of data\n",
    "- `shape`: dimension of the placeholder. Optional. By default, shape of the data\n",
    "- `name`: Name of the placeholder. Optional\t\t\t"
   ]
  },
  {
   "cell_type": "code",
   "execution_count": 71,
   "metadata": {},
   "outputs": [
    {
     "name": "stdout",
     "output_type": "stream",
     "text": [
      "Tensor(\"data_placeholder_a:0\", dtype=float32)\n"
     ]
    }
   ],
   "source": [
    "data_placeholder_a = tf.placeholder(tf.float32, name = \"data_placeholder_a\")\n",
    "print(data_placeholder_a)"
   ]
  },
  {
   "cell_type": "markdown",
   "metadata": {},
   "source": [
    "# TensorFlow works around 3 main components:\n",
    "\n",
    "Graph\n",
    "Tensor\n",
    "Session\n",
    "Components\n",
    "\n",
    "\n",
    "# Graph\n",
    "\n",
    "The graph is fundamental in TensorFlow. All of the mathematical operations (ops) are performed inside a graph. You can imagine a graph as a project where every operations are done. The nodes represent these ops, they can absorb or create new tensors.\n",
    "\n",
    "# Tensor\n",
    "\n",
    "A tensor represents the data that progress between operations. You saw previously how to initialize a tensor. The difference between a constant and variable is the initial values of a variable will change over time.\n",
    "\n",
    "# Session\n",
    "\n",
    "A session will execute the operation from the graph. To feed the graph with the values of a tensor, you need to open a session. Inside a session, you must run an operator to create an output.\n",
    "\n",
    "\n",
    "# Graphs and sessions are independent."
   ]
  },
  {
   "cell_type": "code",
   "execution_count": 73,
   "metadata": {},
   "outputs": [
    {
     "name": "stdout",
     "output_type": "stream",
     "text": [
      "[8]\n"
     ]
    }
   ],
   "source": [
    "## Create, run  and evaluate a session\n",
    "x = tf.constant([2])\n",
    "y = tf.constant([4])\n",
    "## Create operator\n",
    "multiply = tf.multiply(x, y)\t\n",
    "## Create a session to run the code\n",
    "sess = tf.Session()\n",
    "result_1 = sess.run(multiply)\n",
    "print(result_1)\n",
    "sess.close()\t\n",
    "\n",
    "#tf.Session(): Open a session. All the operations will flow within the sessions\n",
    "#run(multiply): execute the operation created in step 2.\n",
    "#print(result_1): Finally, you can print the result\n",
    "#close(): Close the session"
   ]
  },
  {
   "cell_type": "code",
   "execution_count": 76,
   "metadata": {},
   "outputs": [
    {
     "name": "stdout",
     "output_type": "stream",
     "text": [
      "[8]\n"
     ]
    }
   ],
   "source": [
    "#Another way to create a session is inside a block. The advantage is it automatically closes the session.\n",
    "\n",
    "with tf.Session() as sess:    \n",
    "    result_2 = multiply.eval()\n",
    "print(result_2) \t"
   ]
  },
  {
   "cell_type": "code",
   "execution_count": 85,
   "metadata": {},
   "outputs": [
    {
     "name": "stdout",
     "output_type": "stream",
     "text": [
      "1\n",
      "[[1 2]\n",
      " [3 4]]\n",
      "[[[[1 2]\n",
      "   [3 4]\n",
      "   [5 6]]]]\n"
     ]
    }
   ],
   "source": [
    "## Check the tensors created before\n",
    "sess = tf.Session()\n",
    "print(sess.run(r1))\n",
    "print(sess.run(r2_matrix))\n",
    "print(sess.run(r3_matrix))"
   ]
  },
  {
   "cell_type": "code",
   "execution_count": 90,
   "metadata": {},
   "outputs": [
    {
     "name": "stdout",
     "output_type": "stream",
     "text": [
      "[[0.6531115  0.0850256  0.02124807 0.19651577 0.02875801 0.02334326\n",
      "  0.30000597 0.01420576 0.59258765 0.60446393]]\n"
     ]
    }
   ],
   "source": [
    "import numpy as np\n",
    "power_a = tf.pow(data_placeholder_a, 2)\n",
    "sess= tf.Session()   \n",
    "data = np.random.rand(1, 10)  \n",
    "print(sess.run(power_a, feed_dict={data_placeholder_a: data}))  # Will succeed.\t"
   ]
  },
  {
   "cell_type": "markdown",
   "metadata": {},
   "source": [
    "# Graph\n",
    "\n",
    "TensorFlow depends on a genius approach to render the operation. All the computations are represented with a dataflow scheme. The dataflow graph has been developed to see to data dependencies between individual operation. Mathematical formula or algorithm are made of a number of successive operations. A graph is a convenient way to visualize how the computations are coordinated.\n",
    "\n",
    "The graph shows a node and an edge. The node is the representation of a operation, i.e. the unit of computation. The edge is the tensor, it can produce a new tensor or consume the input data. It depends on the dependencies between individual operation.\n",
    "\n",
    "The structure of the graph connects together the operations (i.e. the nodes) and how those are operation are feed. Note that the graph does not display the output of the operations, it only helps to visualize the connection between individual operations."
   ]
  },
  {
   "cell_type": "code",
   "execution_count": 95,
   "metadata": {},
   "outputs": [],
   "source": [
    "\n",
    "x = tf.get_variable(\"x\", dtype=tf.int32,  initializer=tf.constant([5]))\n",
    "z = tf.get_variable(\"z\", dtype=tf.int32,  initializer=tf.constant([6]))\n",
    "c = tf.constant([5], name =\t\"constant\")\n",
    "square = tf.constant([2], name =\t\"square\")\n",
    "f = tf.multiply(x, z) + tf.pow(x, square) + z + c\t\t\t\n",
    "\n",
    "#x: Initialize a variable called x with a constant value of 5\n",
    "#z: Initialize a variable called z with a constant value of 6\n",
    "#c: Initialize a constant tensor called c with a constant value of 5\n",
    "#square: Initialize a constant tensor called square with a constant value of 2\n",
    "#f: Construct the operator"
   ]
  },
  {
   "cell_type": "code",
   "execution_count": 96,
   "metadata": {},
   "outputs": [
    {
     "name": "stdout",
     "output_type": "stream",
     "text": [
      "[66]\n"
     ]
    }
   ],
   "source": [
    "init = tf.global_variables_initializer() # prepare to initialize all variables\n",
    "with tf.Session() as sess:    \n",
    "    init.run() # Initialize x and y    \n",
    "    function_result = f.eval()\n",
    "print(function_result)    \t\t\t"
   ]
  }
 ],
 "metadata": {
  "kernelspec": {
   "display_name": "Python 3",
   "language": "python",
   "name": "python3"
  },
  "language_info": {
   "codemirror_mode": {
    "name": "ipython",
    "version": 3
   },
   "file_extension": ".py",
   "mimetype": "text/x-python",
   "name": "python",
   "nbconvert_exporter": "python",
   "pygments_lexer": "ipython3",
   "version": "3.7.3"
  }
 },
 "nbformat": 4,
 "nbformat_minor": 2
}
